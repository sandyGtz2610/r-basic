{
 "cells": [
  {
   "cell_type": "code",
   "execution_count": 8,
   "id": "5982f61a",
   "metadata": {},
   "outputs": [
    {
     "name": "stdout",
     "output_type": "stream",
     "text": [
      "Escribe un numero real: -3.1\n",
      "El numero -3.1 es negativo\n"
     ]
    }
   ],
   "source": [
    "x = float(input(\"Escribe un numero real: \"))\n",
    "if x < 0:\n",
    "    print(\"El numero \" + str(x) + \" es negativo\")\n",
    "else:\n",
    "    print(\"El numero \" + str(x) + \" es positivo\")"
   ]
  },
  {
   "cell_type": "code",
   "execution_count": 14,
   "id": "2545b101",
   "metadata": {},
   "outputs": [
    {
     "name": "stdout",
     "output_type": "stream",
     "text": [
      "Escribe un numero real: -6.1\n",
      "El numero -6.1 no esta en el rango [-5,5]\n"
     ]
    }
   ],
   "source": [
    "x = float(input(\"Escribe un numero real: \"))\n",
    "if x >= -5 and x<=5:\n",
    "    print(\"El numero \" + str(x) + \" esta en el rango [-5,5]\")\n",
    "else:\n",
    "    print(\"El numero \" + str(x) + \" no esta en el rango [-5,5]\")"
   ]
  },
  {
   "cell_type": "code",
   "execution_count": null,
   "id": "b8e91e6e",
   "metadata": {},
   "outputs": [],
   "source": []
  },
  {
   "cell_type": "code",
   "execution_count": null,
   "id": "e2e0f04e",
   "metadata": {},
   "outputs": [],
   "source": []
  }
 ],
 "metadata": {
  "kernelspec": {
   "display_name": "Python 3 (ipykernel)",
   "language": "python",
   "name": "python3"
  },
  "language_info": {
   "codemirror_mode": {
    "name": "ipython",
    "version": 3
   },
   "file_extension": ".py",
   "mimetype": "text/x-python",
   "name": "python",
   "nbconvert_exporter": "python",
   "pygments_lexer": "ipython3",
   "version": "3.11.4"
  }
 },
 "nbformat": 4,
 "nbformat_minor": 5
}
