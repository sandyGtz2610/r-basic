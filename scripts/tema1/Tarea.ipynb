{
 "cells": [
  {
   "cell_type": "code",
   "execution_count": 8,
   "id": "5982f61a",
   "metadata": {},
   "outputs": [
    {
     "name": "stdout",
     "output_type": "stream",
     "text": [
      "Escribe un numero real: -3.1\n",
      "El numero -3.1 es negativo\n"
     ]
    }
   ],
   "source": [
    "x = float(input(\"Escribe un numero real: \"))\n",
    "if x < 0:\n",
    "    print(\"El numero \" + str(x) + \" es negativo\")\n",
    "else:\n",
    "    print(\"El numero \" + str(x) + \" es positivo\")"
   ]
  },
  {
   "cell_type": "code",
   "execution_count": 14,
   "id": "2545b101",
   "metadata": {},
   "outputs": [
    {
     "name": "stdout",
     "output_type": "stream",
     "text": [
      "Escribe un numero real: -6.1\n",
      "El numero -6.1 no esta en el rango [-5,5]\n"
     ]
    }
   ],
   "source": [
    "x = float(input(\"Escribe un numero real: \"))\n",
    "if x >= -5 and x<=5:\n",
    "    print(\"El numero \" + str(x) + \" esta en el rango [-5,5]\")\n",
    "else:\n",
    "    print(\"El numero \" + str(x) + \" no esta en el rango [-5,5]\")"
   ]
  },
  {
   "cell_type": "code",
   "execution_count": 11,
   "id": "b8e91e6e",
   "metadata": {},
   "outputs": [],
   "source": [
    "def obtenerCuadrante(x,y):\n",
    "    if x == 0 and y == 0:\n",
    "        print(\"El punto indicado es el origen de coordenadas\")\n",
    "    elif x == 0:\n",
    "        print(\"El punto se encuentra sobre el eje vertical\")\n",
    "    elif y == 0:\n",
    "        print(\"El punto se encuentra sobre el eje horizontal\")\n",
    "    else:\n",
    "        print(\"El punto indicado está fuera de los ejes vertical y horizontal\")"
   ]
  },
  {
   "cell_type": "code",
   "execution_count": 12,
   "id": "e2e0f04e",
   "metadata": {},
   "outputs": [
    {
     "name": "stdout",
     "output_type": "stream",
     "text": [
      "El punto se encuentra sobre el eje vertical\n"
     ]
    }
   ],
   "source": [
    "obtenerCuadrante(0,3)"
   ]
  },
  {
   "cell_type": "code",
   "execution_count": 13,
   "id": "8cab10fe",
   "metadata": {},
   "outputs": [
    {
     "name": "stdout",
     "output_type": "stream",
     "text": [
      "El punto se encuentra sobre el eje horizontal\n"
     ]
    }
   ],
   "source": [
    "obtenerCuadrante(-3,0)"
   ]
  },
  {
   "cell_type": "code",
   "execution_count": 14,
   "id": "f9a366c0",
   "metadata": {},
   "outputs": [
    {
     "name": "stdout",
     "output_type": "stream",
     "text": [
      "El punto indicado es el origen de coordenadas\n"
     ]
    }
   ],
   "source": [
    "obtenerCuadrante(0,0)"
   ]
  },
  {
   "cell_type": "code",
   "execution_count": 15,
   "id": "219f3dcb",
   "metadata": {},
   "outputs": [
    {
     "name": "stdout",
     "output_type": "stream",
     "text": [
      "El punto indicado está fuera de los ejes vertical y horizontal\n"
     ]
    }
   ],
   "source": [
    "obtenerCuadrante(-2,3)"
   ]
  },
  {
   "cell_type": "code",
   "execution_count": 20,
   "id": "40144b32",
   "metadata": {},
   "outputs": [],
   "source": [
    "def operDivision(x,y):\n",
    "    print(\"El cociente de la división entera de \" + str(x) + \" y \" + str(y) + \" es: \" + str(x//y))\n",
    "    print(\"El resto de la división entera de \" + str(x) + \" y \" + str(y) + \" es: \" + str(x%y))"
   ]
  },
  {
   "cell_type": "code",
   "execution_count": 21,
   "id": "047bfdb5",
   "metadata": {},
   "outputs": [
    {
     "name": "stdout",
     "output_type": "stream",
     "text": [
      "El cociente de la división entera de 7 y 3 es: 2\n",
      "El resto de la división entera de 7 y 3 es: 1\n"
     ]
    }
   ],
   "source": [
    "operDivision(7,3)"
   ]
  },
  {
   "cell_type": "code",
   "execution_count": 23,
   "id": "da065120",
   "metadata": {},
   "outputs": [],
   "source": [
    "import math\n",
    "def esCuadradoPerfecto(a):\n",
    "    raiz = math.sqrt(a)\n",
    "    resto = raiz - math.trunc(raiz)\n",
    "    if resto > 0:\n",
    "        print(\"El número \" + str(a) + \" no es cuadrado perfecto\")\n",
    "    elif resto == 0:\n",
    "        print(\"El número \" + str(a) + \" es cuadrado perfecto\")"
   ]
  },
  {
   "cell_type": "code",
   "execution_count": 25,
   "id": "1d33f1af",
   "metadata": {},
   "outputs": [
    {
     "name": "stdout",
     "output_type": "stream",
     "text": [
      "El número 3 no es cuadrado perfecto\n"
     ]
    }
   ],
   "source": [
    "esCuadradoPerfecto(3)"
   ]
  },
  {
   "cell_type": "code",
   "execution_count": 26,
   "id": "283f2e27",
   "metadata": {},
   "outputs": [
    {
     "name": "stdout",
     "output_type": "stream",
     "text": [
      "El número 4 es cuadrado perfecto\n"
     ]
    }
   ],
   "source": [
    "esCuadradoPerfecto(4)"
   ]
  },
  {
   "cell_type": "code",
   "execution_count": 30,
   "id": "41c45d5d",
   "metadata": {},
   "outputs": [],
   "source": [
    "def esBisiesto(x):\n",
    "    if x%4 == 0:\n",
    "        if x < 100:\n",
    "            print(\"El número \" + str(x) + \" SI corresponde a un año bisiesto\")\n",
    "        elif x < 400:\n",
    "            if x%100 == 0:\n",
    "                print(\"El número \" + str(x) + \" NO corresponde a un año bisiesto\")\n",
    "            else:\n",
    "                print(\"El número \" + str(x) + \" SI corresponde a un año bisiesto\")\n",
    "        else:\n",
    "            if x%400 == 0:\n",
    "                print(\"El número \" + str(x) + \" SI corresponde a un año bisiesto\")\n",
    "            elif x%100 == 0:\n",
    "                print(\"El número \" + str(x) + \" NO corresponde a un año bisiesto\")\n",
    "            else:\n",
    "                print(\"El número \" + str(x) + \" SI corresponde a un año bisiesto\")"
   ]
  },
  {
   "cell_type": "code",
   "execution_count": 31,
   "id": "ff7ac3a9",
   "metadata": {},
   "outputs": [
    {
     "name": "stdout",
     "output_type": "stream",
     "text": [
      "El número 388 SI corresponde a un año bisiesto\n"
     ]
    }
   ],
   "source": [
    "esBisiesto(388)"
   ]
  },
  {
   "cell_type": "code",
   "execution_count": 32,
   "id": "c1a749f5",
   "metadata": {},
   "outputs": [
    {
     "name": "stdout",
     "output_type": "stream",
     "text": [
      "El número 2000 SI corresponde a un año bisiesto\n"
     ]
    }
   ],
   "source": [
    "esBisiesto(2000)"
   ]
  },
  {
   "cell_type": "code",
   "execution_count": 34,
   "id": "697ab972",
   "metadata": {},
   "outputs": [
    {
     "name": "stdout",
     "output_type": "stream",
     "text": [
      "El número 2024 SI corresponde a un año bisiesto\n"
     ]
    }
   ],
   "source": [
    "esBisiesto(2024)"
   ]
  },
  {
   "cell_type": "code",
   "execution_count": 41,
   "id": "6f069a93",
   "metadata": {},
   "outputs": [],
   "source": [
    "def dameColor(l, x):\n",
    "    if x > 0 and x <= 8:\n",
    "        if l == 'a' or l == 'c' or l == 'e' or l == 'g':\n",
    "            if x%2 > 0:\n",
    "                print(\"El color de la casilla es NEGRA\")\n",
    "            else:\n",
    "                print(\"El color de la casilla es BLANCA\")\n",
    "        elif l == 'b' or l == 'd' or l == 'f' or l == 'h':\n",
    "            if x%2 > 0:\n",
    "                print(\"El color de la casilla es BLANCA\")\n",
    "            else:\n",
    "                print(\"El color de la casilla es NEGRA\")\n",
    "        else:\n",
    "            print(\"Sólo se permiten las letras a,b,c,d,e,f,g y h\")\n",
    "    else:\n",
    "        print(\"Sólo puedo introducir números del 1 al 8\")"
   ]
  },
  {
   "cell_type": "code",
   "execution_count": 45,
   "id": "268c6e2f",
   "metadata": {},
   "outputs": [
    {
     "name": "stdout",
     "output_type": "stream",
     "text": [
      "El color de la casilla es BLANCA\n"
     ]
    }
   ],
   "source": [
    "dameColor('h',5)"
   ]
  },
  {
   "cell_type": "code",
   "execution_count": null,
   "id": "43eccbb8",
   "metadata": {},
   "outputs": [],
   "source": []
  }
 ],
 "metadata": {
  "kernelspec": {
   "display_name": "Python 3 (ipykernel)",
   "language": "python",
   "name": "python3"
  },
  "language_info": {
   "codemirror_mode": {
    "name": "ipython",
    "version": 3
   },
   "file_extension": ".py",
   "mimetype": "text/x-python",
   "name": "python",
   "nbconvert_exporter": "python",
   "pygments_lexer": "ipython3",
   "version": "3.11.4"
  }
 },
 "nbformat": 4,
 "nbformat_minor": 5
}
